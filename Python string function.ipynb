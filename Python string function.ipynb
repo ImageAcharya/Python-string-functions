{
 "cells": [
  {
   "cell_type": "code",
   "execution_count": null,
   "id": "58f06ce4-9ee1-4ffa-b7f0-e01af14fcddd",
   "metadata": {},
   "outputs": [],
   "source": [
    "#if statement "
   ]
  },
  {
   "cell_type": "code",
   "execution_count": 18,
   "id": "781db249-c1c7-4f5a-b65d-8e2127295f1d",
   "metadata": {},
   "outputs": [
    {
     "name": "stdin",
     "output_type": "stream",
     "text": [
      "Enter the number you want:- 20\n"
     ]
    },
    {
     "name": "stdout",
     "output_type": "stream",
     "text": [
      "Even Number\n"
     ]
    }
   ],
   "source": [
    "b= int(input(\"Enter the number you want:-\"))\n",
    "if b%2==0:\n",
    "    print(\"Even Number\")  "
   ]
  },
  {
   "cell_type": "code",
   "execution_count": null,
   "id": "4b710984-8f6f-44fb-912d-7050ed856bb0",
   "metadata": {},
   "outputs": [],
   "source": [
    "#if-else statement\n"
   ]
  },
  {
   "cell_type": "code",
   "execution_count": 17,
   "id": "98d06aa1-309e-416b-a43f-9946bbb5a88e",
   "metadata": {},
   "outputs": [
    {
     "name": "stdin",
     "output_type": "stream",
     "text": [
      "Enter the number you want:- 21\n"
     ]
    },
    {
     "name": "stdout",
     "output_type": "stream",
     "text": [
      "odd number\n"
     ]
    }
   ],
   "source": [
    "b= int(input(\"Enter the number you want:-\"))\n",
    "if b%2==0:\n",
    "    print(\"Even Number\")\n",
    "else:\n",
    "    print(\"odd number\")\n",
    "    "
   ]
  },
  {
   "cell_type": "code",
   "execution_count": null,
   "id": "b090ef73-863d-428e-a08d-c88cdcbafe14",
   "metadata": {},
   "outputs": [],
   "source": [
    "#if-elif-else statement"
   ]
  },
  {
   "cell_type": "code",
   "execution_count": 14,
   "id": "c0665b6d-d4ef-4c53-9a1a-4e1a7a77612d",
   "metadata": {},
   "outputs": [
    {
     "name": "stdin",
     "output_type": "stream",
     "text": [
      "Enter the marks:- 85\n"
     ]
    },
    {
     "name": "stdout",
     "output_type": "stream",
     "text": [
      "Distinction\n"
     ]
    }
   ],
   "source": [
    "marks= int(input(\"Enter the marks:-\"))\n",
    "if marks>=80:\n",
    "    print(\"Distinction\")\n",
    "elif marks>=60:\n",
    "    print(\"First Division\")\n",
    "elif marks>=50:\n",
    "    print(\"Second Division\")\n",
    "elif marks>=40:\n",
    "    print(\"Third Division\")\n",
    "else:\n",
    "    print(\"Fail\")"
   ]
  },
  {
   "cell_type": "code",
   "execution_count": null,
   "id": "f04f8b12-6213-42b0-9e0d-85bac1346728",
   "metadata": {},
   "outputs": [],
   "source": [
    "#if statement"
   ]
  },
  {
   "cell_type": "code",
   "execution_count": 13,
   "id": "8ee1fadc-1d94-49ea-af63-bd93946a73d2",
   "metadata": {},
   "outputs": [
    {
     "name": "stdin",
     "output_type": "stream",
     "text": [
      "Enter the marks:- 85\n"
     ]
    },
    {
     "name": "stdout",
     "output_type": "stream",
     "text": [
      "Distinction\n",
      "First Division\n",
      "Second Division\n",
      "Third Division\n"
     ]
    }
   ],
   "source": [
    "marks= int(input(\"Enter the marks:-\"))\n",
    "if marks>=80:\n",
    "    print(\"Distinction\")\n",
    "if marks>=60:\n",
    "    print(\"First Division\")\n",
    "if marks>=50:\n",
    "    print(\"Second Division\")\n",
    "if marks>=40:\n",
    "    print(\"Third Division\")\n",
    "else:\n",
    "    print(\"Fail\")"
   ]
  },
  {
   "cell_type": "code",
   "execution_count": null,
   "id": "ee383295-470f-4afe-b6d4-3332071180ee",
   "metadata": {},
   "outputs": [],
   "source": [
    "#for loop with range() in python"
   ]
  },
  {
   "cell_type": "code",
   "execution_count": 16,
   "id": "4680e374-f5d4-4999-8636-3580b3a74ff6",
   "metadata": {},
   "outputs": [
    {
     "name": "stdout",
     "output_type": "stream",
     "text": [
      "2* 1 = 2\n",
      "2* 2 = 4\n",
      "2* 3 = 6\n",
      "2* 4 = 8\n",
      "2* 5 = 10\n",
      "2* 6 = 12\n",
      "2* 7 = 14\n",
      "2* 8 = 16\n",
      "2* 9 = 18\n",
      "2* 10 = 20\n"
     ]
    }
   ],
   "source": [
    "for a in range(1,11):\n",
    "    print(\"2*\",a, \"=\", 2*a)"
   ]
  },
  {
   "cell_type": "code",
   "execution_count": null,
   "id": "eee400fb-33d2-4cf9-969a-0e2df79213f0",
   "metadata": {},
   "outputs": [],
   "source": [
    "#Reverse process"
   ]
  },
  {
   "cell_type": "code",
   "execution_count": 23,
   "id": "4d4a9cc0-d3f2-4572-8775-bc19ff17c7f8",
   "metadata": {},
   "outputs": [
    {
     "name": "stdout",
     "output_type": "stream",
     "text": [
      "2 * 10 = 20\n",
      "2 * 9 = 18\n",
      "2 * 8 = 16\n",
      "2 * 7 = 14\n",
      "2 * 6 = 12\n",
      "2 * 5 = 10\n",
      "2 * 4 = 8\n",
      "2 * 3 = 6\n",
      "2 * 2 = 4\n",
      "2 * 1 = 2\n"
     ]
    }
   ],
   "source": [
    "for a in range(10,0,-1):\n",
    "    print(\"2 *\", a, \"=\", 2*a)"
   ]
  },
  {
   "cell_type": "code",
   "execution_count": null,
   "id": "31bf140a-ece1-45c9-95b7-7a87a4e0c2ab",
   "metadata": {},
   "outputs": [],
   "source": [
    "#while loop in python"
   ]
  },
  {
   "cell_type": "code",
   "execution_count": 26,
   "id": "5808b0b8-5c1d-4ae5-83c2-0f620ab257b5",
   "metadata": {},
   "outputs": [
    {
     "name": "stdout",
     "output_type": "stream",
     "text": [
      "1  Hello my name is Image Acharya\n",
      "2  Hello my name is Image Acharya\n",
      "3  Hello my name is Image Acharya\n",
      "4  Hello my name is Image Acharya\n",
      "5  Hello my name is Image Acharya\n",
      "6  Hello my name is Image Acharya\n",
      "7  Hello my name is Image Acharya\n",
      "8  Hello my name is Image Acharya\n",
      "9  Hello my name is Image Acharya\n",
      "10  Hello my name is Image Acharya\n",
      "11\n"
     ]
    }
   ],
   "source": [
    "a=1\n",
    "while a<=10:\n",
    "    print(a, \" Hello my name is Image Acharya\")\n",
    "    a+=1\n",
    "print(a)"
   ]
  },
  {
   "cell_type": "code",
   "execution_count": 34,
   "id": "131edc9c-c08b-4b31-a0cb-38cceacf99f1",
   "metadata": {},
   "outputs": [],
   "source": [
    "#string indexing and slicing"
   ]
  },
  {
   "cell_type": "code",
   "execution_count": 46,
   "id": "ba02a123-838f-4cd1-8e73-6427defa7454",
   "metadata": {},
   "outputs": [],
   "source": [
    "#string indexing"
   ]
  },
  {
   "cell_type": "code",
   "execution_count": 31,
   "id": "44c9c26c-acd2-4ee6-aa9f-495c493f1c31",
   "metadata": {},
   "outputs": [],
   "source": [
    "# Define a sample string\n",
    "sample_string = \"Hello, World!\""
   ]
  },
  {
   "cell_type": "code",
   "execution_count": 44,
   "id": "916b41df-772f-4fca-8622-fb9ccb51e02b",
   "metadata": {},
   "outputs": [
    {
     "name": "stdout",
     "output_type": "stream",
     "text": [
      "H\n",
      "e\n",
      "!\n"
     ]
    }
   ],
   "source": [
    "# Indexing from the start (positive indexing)\n",
    "first_char = sample_string[0]     # 'H'\n",
    "second_char = sample_string[1]    # 'e'\n",
    "last_char = sample_string[12]     # '!'\n",
    "print(first_char)\n",
    "print(second_char)\n",
    "print(last_char )"
   ]
  },
  {
   "cell_type": "code",
   "execution_count": 45,
   "id": "c5259584-9914-47df-b931-d66efd73228a",
   "metadata": {},
   "outputs": [
    {
     "name": "stdout",
     "output_type": "stream",
     "text": [
      "!\n",
      "d\n",
      "H\n"
     ]
    }
   ],
   "source": [
    "# Indexing from the end (negative indexing)\n",
    "last_char = sample_string[-1]     # '!'\n",
    "second_last_char = sample_string[-2]  # 'd'\n",
    "first_char = sample_string[-13]   # 'H'\n",
    "print(last_char)\n",
    "print(second_last_char)\n",
    "print(first_char)"
   ]
  },
  {
   "cell_type": "code",
   "execution_count": null,
   "id": "5641b9b7-7b97-46fa-a77c-e669f9c3b0de",
   "metadata": {},
   "outputs": [],
   "source": [
    "#String Slicing"
   ]
  },
  {
   "cell_type": "code",
   "execution_count": 48,
   "id": "2f611975-181a-4409-9d74-7a9c27306c27",
   "metadata": {},
   "outputs": [],
   "source": [
    "#string[start:stop:step]\n"
   ]
  },
  {
   "cell_type": "code",
   "execution_count": 49,
   "id": "97d572fe-ef43-4e38-b949-538573f8048b",
   "metadata": {},
   "outputs": [],
   "source": [
    "# Define a sample string\n",
    "sample_string = \"Hello, World!\"\n",
    "\n",
    "# Slicing with positive indices\n",
    "substring1 = sample_string[0:5]       # 'Hello'\n",
    "substring2 = sample_string[7:12]      # 'World'\n",
    "\n",
    "# Slicing with negative indices\n",
    "substring3 = sample_string[-6:-1]     # 'World'\n",
    "\n",
    "# Slicing with steps\n",
    "substring4 = sample_string[::2]       # 'Hlo ol!'\n",
    "substring5 = sample_string[1::2]      # 'el,Wrd'\n",
    "\n",
    "# Slicing with negative step (reversing the string)\n",
    "reversed_string = sample_string[::-1] # '!dlroW ,olleH'\n",
    "\n",
    "# Omitting start or stop indices\n",
    "substring6 = sample_string[:5]        # 'Hello'\n",
    "substring7 = sample_string[7:]        # 'World!'\n"
   ]
  },
  {
   "cell_type": "code",
   "execution_count": 58,
   "id": "0136321b-103b-42c5-9000-9f0f5e575097",
   "metadata": {},
   "outputs": [
    {
     "name": "stdout",
     "output_type": "stream",
     "text": [
      "el,W\n",
      "ello,\n",
      "H\n"
     ]
    }
   ],
   "source": [
    "# Define a sample string\n",
    "sample_string = \"Hello, World!\"\n",
    "\n",
    "# Extracting a substring using both indexing and slicing\n",
    "substring1 = sample_string[1:8:2]    # 'el,'\n",
    "substring2 = sample_string[-12:-7]   # 'ello,'\n",
    "\n",
    "# Accessing characters using slicing\n",
    "char1 = sample_string[0:1]           # 'H'\n",
    "char2 = sample_string[-1:]           # '!'\n",
    "\n",
    "# Extracting every second character from a substring\n",
    "substring3 = sample_string[1:8:2]    # 'el,'\n",
    "\n",
    "print(substring1)\n",
    "print(substring2)\n",
    "print(char1)\n"
   ]
  },
  {
   "cell_type": "code",
   "execution_count": 59,
   "id": "86ae485d-403d-4486-b40b-2c9213e46e5b",
   "metadata": {},
   "outputs": [
    {
     "name": "stdout",
     "output_type": "stream",
     "text": [
      "Python\n"
     ]
    }
   ],
   "source": [
    "sample = \"Python Programming\"\n",
    "substring = sample[:6]  # 'Python'\n",
    "print(substring)"
   ]
  },
  {
   "cell_type": "code",
   "execution_count": 51,
   "id": "8f748ed4-a5fe-44de-bbee-0e787c00e16b",
   "metadata": {},
   "outputs": [],
   "source": [
    "sample = \"OpenAI\"\n",
    "reversed_sample = sample[::-1]  # 'IAnepO'\n"
   ]
  },
  {
   "cell_type": "code",
   "execution_count": 52,
   "id": "698afc90-53ce-49b7-97bc-e85822013aa4",
   "metadata": {},
   "outputs": [],
   "source": [
    "sample = \"abcdefghij\"\n",
    "every_third_char = sample[::3]  # 'adgj'\n"
   ]
  },
  {
   "cell_type": "code",
   "execution_count": 53,
   "id": "9b885cce-b698-4a93-899d-e1e202dde673",
   "metadata": {},
   "outputs": [],
   "source": [
    "sample = \"Programming\"\n",
    "substring = sample[-7:-2]  # 'gramm'\n"
   ]
  },
  {
   "cell_type": "code",
   "execution_count": null,
   "id": "2b0b88d0-22e6-4961-8544-6ce31406c96a",
   "metadata": {},
   "outputs": [],
   "source": [
    "#string iteration in python"
   ]
  },
  {
   "cell_type": "code",
   "execution_count": 133,
   "id": "56939473-8445-453e-add2-e23c43b446c4",
   "metadata": {},
   "outputs": [
    {
     "name": "stdout",
     "output_type": "stream",
     "text": [
      "30\n",
      "\n",
      "0\n",
      "H\n",
      "1\n",
      "e\n",
      "2\n",
      "l\n",
      "3\n",
      "l\n",
      "4\n",
      "o\n",
      "5\n",
      " \n",
      "6\n",
      "m\n",
      "7\n",
      "y\n",
      "8\n",
      " \n",
      "9\n",
      "n\n",
      "10\n",
      "a\n",
      "11\n",
      "m\n",
      "12\n",
      "e\n",
      "13\n",
      " \n",
      "14\n",
      "i\n",
      "15\n",
      "s\n",
      "16\n",
      " \n",
      "17\n",
      "I\n",
      "18\n",
      "m\n",
      "19\n",
      "a\n",
      "20\n",
      "g\n",
      "21\n",
      "e\n",
      "22\n",
      " \n",
      "23\n",
      "A\n",
      "24\n",
      "c\n",
      "25\n",
      "h\n",
      "26\n",
      "a\n",
      "27\n",
      "r\n",
      "28\n",
      "y\n",
      "29\n",
      "a\n",
      "\n",
      "a\n",
      "y\n",
      "r\n",
      "a\n",
      "h\n",
      "c\n",
      "A\n",
      " \n",
      "e\n",
      "g\n",
      "a\n",
      "m\n",
      "I\n",
      " \n",
      "s\n",
      "i\n",
      " \n",
      "e\n",
      "m\n",
      "a\n",
      "n\n",
      " \n",
      "y\n",
      "m\n",
      " \n",
      "o\n",
      "l\n",
      "l\n",
      "e\n",
      "H\n"
     ]
    }
   ],
   "source": [
    "string1=\"Hello my name is Image Acharya\"\n",
    "a=len(string1)\n",
    "print(a)\n",
    "print(\"\")\n",
    "\n",
    "for b in range(a):\n",
    "    print(b)\n",
    "    print(string1[b])\n",
    "print(\"\")\n",
    "\n",
    "for c in range(a-1,-1,-1):\n",
    "    print(string1[c])\n",
    "    "
   ]
  },
  {
   "cell_type": "code",
   "execution_count": 69,
   "id": "7c23e588-bd77-47f9-a572-f1e2a1e6d29d",
   "metadata": {},
   "outputs": [
    {
     "name": "stdout",
     "output_type": "stream",
     "text": [
      "H\n",
      "e\n",
      "l\n",
      "l\n",
      "o\n",
      ",\n",
      " \n",
      "W\n",
      "o\n",
      "r\n",
      "l\n",
      "d\n",
      "!\n"
     ]
    }
   ],
   "source": [
    "# Define a sample string\n",
    "sample_string = \"Hello, World!\"\n",
    "\n",
    "# Iterate over each character in the string\n",
    "for char in sample_string:\n",
    "    print(char)\n"
   ]
  },
  {
   "cell_type": "code",
   "execution_count": 70,
   "id": "c3a9d91e-dc5f-450a-9106-267794417e34",
   "metadata": {},
   "outputs": [
    {
     "name": "stdout",
     "output_type": "stream",
     "text": [
      "Index 0: H\n",
      "Index 1: e\n",
      "Index 2: l\n",
      "Index 3: l\n",
      "Index 4: o\n",
      "Index 5: ,\n",
      "Index 6:  \n",
      "Index 7: W\n",
      "Index 8: o\n",
      "Index 9: r\n",
      "Index 10: l\n",
      "Index 11: d\n",
      "Index 12: !\n"
     ]
    }
   ],
   "source": [
    "# Define a sample string\n",
    "sample_string = \"Hello, World!\"\n",
    "\n",
    "# Iterate over the string using indices\n",
    "for i in range(len(sample_string)):\n",
    "    print(f\"Index {i}: {sample_string[i]}\")\n"
   ]
  },
  {
   "cell_type": "code",
   "execution_count": 71,
   "id": "d0dadc1b-bf21-4690-a7df-830685fe6017",
   "metadata": {},
   "outputs": [],
   "source": [
    "#string function in python"
   ]
  },
  {
   "cell_type": "code",
   "execution_count": 132,
   "id": "f4b93f12-2157-4522-9382-4fbc5bf55706",
   "metadata": {},
   "outputs": [],
   "source": [
    "# capitalize()\n",
    "#Capitalizes the first character of the string."
   ]
  },
  {
   "cell_type": "code",
   "execution_count": 74,
   "id": "2e007102-d260-4592-aa24-d63ef78d5b46",
   "metadata": {},
   "outputs": [
    {
     "name": "stdout",
     "output_type": "stream",
     "text": [
      "Hello world\n"
     ]
    }
   ],
   "source": [
    "s = \"hello world\"\n",
    "print(s.capitalize())  # Output: \"Hello world\"\n"
   ]
  },
  {
   "cell_type": "code",
   "execution_count": 131,
   "id": "11bcbd7f-4d9c-4c62-b071-ebc14d033f75",
   "metadata": {},
   "outputs": [],
   "source": [
    "# lower()\n",
    "#Converts all characters in the string to lowercase."
   ]
  },
  {
   "cell_type": "code",
   "execution_count": 76,
   "id": "793e6992-30c9-4fe2-aa2a-eae8c43bdc8e",
   "metadata": {},
   "outputs": [
    {
     "name": "stdout",
     "output_type": "stream",
     "text": [
      "hello world\n"
     ]
    }
   ],
   "source": [
    "s = \"Hello World\"\n",
    "print(s.lower())  # Output: \"hello world\"\n"
   ]
  },
  {
   "cell_type": "code",
   "execution_count": 77,
   "id": "6aaf95db-a944-406e-92e5-60bb55d68818",
   "metadata": {},
   "outputs": [],
   "source": [
    "#upper()\n",
    "#Converts all characters in the string to uppercase."
   ]
  },
  {
   "cell_type": "code",
   "execution_count": 78,
   "id": "9fbc3e17-f5a9-41d3-801c-54418e777daf",
   "metadata": {},
   "outputs": [
    {
     "name": "stdout",
     "output_type": "stream",
     "text": [
      "HELLO WORLD\n"
     ]
    }
   ],
   "source": [
    "s = \"Hello World\"\n",
    "print(s.upper())  # Output: \"HELLO WORLD\"\n"
   ]
  },
  {
   "cell_type": "code",
   "execution_count": 79,
   "id": "2d872a83-c77a-4dca-9edb-52d7ade29f25",
   "metadata": {},
   "outputs": [],
   "source": [
    "#swapcase()\n",
    "#Swaps the case of all characters in the string."
   ]
  },
  {
   "cell_type": "code",
   "execution_count": 80,
   "id": "fe8973d1-f66e-499c-8a4f-1ed6d985499d",
   "metadata": {},
   "outputs": [
    {
     "name": "stdout",
     "output_type": "stream",
     "text": [
      "hELLO wORLD\n"
     ]
    }
   ],
   "source": [
    "s = \"Hello World\"\n",
    "print(s.swapcase())  # Output: \"hELLO wORLD\"\n"
   ]
  },
  {
   "cell_type": "code",
   "execution_count": 81,
   "id": "f0d7c5c9-51ef-4172-b1df-f23eb2af12d6",
   "metadata": {},
   "outputs": [],
   "source": [
    "#count()\n",
    "#Counts the occurrences of a substring in the string."
   ]
  },
  {
   "cell_type": "code",
   "execution_count": 82,
   "id": "58a354ae-ed95-4f4e-96a5-7ed5246356ec",
   "metadata": {},
   "outputs": [
    {
     "name": "stdout",
     "output_type": "stream",
     "text": [
      "2\n"
     ]
    }
   ],
   "source": [
    "s = \"hello world\"\n",
    "print(s.count('o'))  # Output: 2\n"
   ]
  },
  {
   "cell_type": "code",
   "execution_count": 84,
   "id": "2b349474-e344-4359-a572-354c54aedef5",
   "metadata": {},
   "outputs": [],
   "source": [
    "#find()\n",
    "#Returns the index of the first occurrence of a substring."
   ]
  },
  {
   "cell_type": "code",
   "execution_count": 85,
   "id": "09731940-c6ee-4433-86b2-2dd488e580be",
   "metadata": {},
   "outputs": [
    {
     "name": "stdout",
     "output_type": "stream",
     "text": [
      "4\n"
     ]
    }
   ],
   "source": [
    "s = \"hello world\"\n",
    "print(s.find('o'))  # Output: 4\n"
   ]
  },
  {
   "cell_type": "code",
   "execution_count": 86,
   "id": "d422cab7-9f1f-42a3-9c02-b387d1a38fb5",
   "metadata": {},
   "outputs": [],
   "source": [
    "#rfind()\n",
    "#Returns the index of the last occurrence of a substring."
   ]
  },
  {
   "cell_type": "code",
   "execution_count": 87,
   "id": "5d21ce6d-d3e3-497f-8668-83f52e27815e",
   "metadata": {},
   "outputs": [
    {
     "name": "stdout",
     "output_type": "stream",
     "text": [
      "7\n"
     ]
    }
   ],
   "source": [
    "s = \"hello world\"\n",
    "print(s.rfind('o'))  # Output: 7\n"
   ]
  },
  {
   "cell_type": "code",
   "execution_count": 88,
   "id": "4318277a-0c0d-48d0-b93b-71072f443b84",
   "metadata": {},
   "outputs": [],
   "source": [
    "#replace()\n",
    "#Replaces all occurrences of a substring with another substring."
   ]
  },
  {
   "cell_type": "code",
   "execution_count": 89,
   "id": "46042fec-5632-400d-a2c3-eda1f878cb29",
   "metadata": {},
   "outputs": [
    {
     "name": "stdout",
     "output_type": "stream",
     "text": [
      "hello Python\n"
     ]
    }
   ],
   "source": [
    "s = \"hello world\"\n",
    "print(s.replace('world', 'Python'))  # Output: \"hello Python\"\n"
   ]
  },
  {
   "cell_type": "code",
   "execution_count": 90,
   "id": "e9327378-4998-4434-b693-7feef28a9434",
   "metadata": {},
   "outputs": [],
   "source": [
    "#startswith()\n",
    "#Checks if the string starts with a specified prefix."
   ]
  },
  {
   "cell_type": "code",
   "execution_count": 91,
   "id": "175da1ea-c337-433d-9e16-87ffb0351480",
   "metadata": {},
   "outputs": [
    {
     "name": "stdout",
     "output_type": "stream",
     "text": [
      "True\n"
     ]
    }
   ],
   "source": [
    "s = \"hello world\"\n",
    "print(s.startswith('hello'))  # Output: True\n"
   ]
  },
  {
   "cell_type": "code",
   "execution_count": 92,
   "id": "f9b8c900-6a05-4026-9220-9b3432b90b7e",
   "metadata": {},
   "outputs": [],
   "source": [
    "#endswith()\n",
    "#Checks if the string ends with a specified suffix."
   ]
  },
  {
   "cell_type": "code",
   "execution_count": 93,
   "id": "9360ba04-3e8c-4783-9f08-aa13182205e9",
   "metadata": {},
   "outputs": [
    {
     "name": "stdout",
     "output_type": "stream",
     "text": [
      "True\n"
     ]
    }
   ],
   "source": [
    "s = \"hello world\"\n",
    "print(s.endswith('world'))  # Output: True\n"
   ]
  },
  {
   "cell_type": "code",
   "execution_count": 94,
   "id": "d9d91a90-ec76-4f13-99f1-4bc9cc798f2c",
   "metadata": {},
   "outputs": [],
   "source": [
    "#split()\n",
    "#Splits the string into a list of substrings based on a delimiter."
   ]
  },
  {
   "cell_type": "code",
   "execution_count": 95,
   "id": "50fa320c-6810-4088-833e-c687ce8b3166",
   "metadata": {},
   "outputs": [
    {
     "name": "stdout",
     "output_type": "stream",
     "text": [
      "['hello', 'world']\n"
     ]
    }
   ],
   "source": [
    "s = \"hello world\"\n",
    "print(s.split())  # Output: ['hello', 'world']\n"
   ]
  },
  {
   "cell_type": "code",
   "execution_count": 96,
   "id": "848a3855-8d32-4dee-934b-9d3883df53f7",
   "metadata": {},
   "outputs": [],
   "source": [
    "#splitlines()\n",
    "#Splits the string at line breaks into a list."
   ]
  },
  {
   "cell_type": "code",
   "execution_count": 97,
   "id": "bc271a3c-d75a-46f8-9d79-5b222d14637b",
   "metadata": {},
   "outputs": [
    {
     "name": "stdout",
     "output_type": "stream",
     "text": [
      "['hello', 'world']\n"
     ]
    }
   ],
   "source": [
    "s = \"hello\\nworld\"\n",
    "print(s.splitlines())  # Output: ['hello', 'world']\n"
   ]
  },
  {
   "cell_type": "code",
   "execution_count": 98,
   "id": "9f77513d-5fbb-4b11-a706-d9fad0d6ef95",
   "metadata": {},
   "outputs": [],
   "source": [
    "#join()\n",
    "#Joins a list of strings into a single string with a specified delimiter."
   ]
  },
  {
   "cell_type": "code",
   "execution_count": 99,
   "id": "17fb5666-ba8d-4a1d-a059-8ade9d15b162",
   "metadata": {},
   "outputs": [
    {
     "name": "stdout",
     "output_type": "stream",
     "text": [
      "hello world\n"
     ]
    }
   ],
   "source": [
    "list_of_strings = ['hello', 'world']\n",
    "print(' '.join(list_of_strings))  # Output: \"hello world\"\n"
   ]
  },
  {
   "cell_type": "code",
   "execution_count": 100,
   "id": "d5bb0e12-3baa-482a-9ac4-ff53798b1b7e",
   "metadata": {},
   "outputs": [],
   "source": [
    "#strip()\n",
    "#Removes leading and trailing whitespace characters."
   ]
  },
  {
   "cell_type": "code",
   "execution_count": 101,
   "id": "a578c98b-9ef5-40aa-ae73-f3fbf085d787",
   "metadata": {},
   "outputs": [
    {
     "name": "stdout",
     "output_type": "stream",
     "text": [
      "hello world\n"
     ]
    }
   ],
   "source": [
    "s = \"  hello world  \"\n",
    "print(s.strip())  # Output: \"hello world\"\n"
   ]
  },
  {
   "cell_type": "code",
   "execution_count": 102,
   "id": "de71f05c-21cb-4ce5-b914-df20b74f55c8",
   "metadata": {},
   "outputs": [],
   "source": [
    "#lstrip()\n",
    "#Removes leading whitespace characters."
   ]
  },
  {
   "cell_type": "code",
   "execution_count": 103,
   "id": "76b5c8c8-3a63-4d02-b3fd-ebaf5343b2f7",
   "metadata": {},
   "outputs": [
    {
     "name": "stdout",
     "output_type": "stream",
     "text": [
      "hello world  \n"
     ]
    }
   ],
   "source": [
    "s = \"  hello world  \"\n",
    "print(s.lstrip())  # Output: \"hello world  \"\n"
   ]
  },
  {
   "cell_type": "code",
   "execution_count": 104,
   "id": "e3b138f1-969d-4547-985d-c9c6e54bb852",
   "metadata": {},
   "outputs": [],
   "source": [
    "#rstrip()\n",
    "#Removes trailing whitespace characters."
   ]
  },
  {
   "cell_type": "code",
   "execution_count": 105,
   "id": "34b1236f-d993-4d98-9c16-5d797a94a1c8",
   "metadata": {},
   "outputs": [
    {
     "name": "stdout",
     "output_type": "stream",
     "text": [
      "  hello world\n"
     ]
    }
   ],
   "source": [
    "s = \"  hello world  \"\n",
    "print(s.rstrip())  # Output: \"  hello world\"\n"
   ]
  },
  {
   "cell_type": "code",
   "execution_count": 106,
   "id": "b0b6308a-f7a6-494d-b29a-036aa7ed9728",
   "metadata": {},
   "outputs": [],
   "source": [
    "#isalpha()\n",
    "#Checks if all characters in the string are alphabetic."
   ]
  },
  {
   "cell_type": "code",
   "execution_count": 107,
   "id": "18120ac0-2849-40db-a3f5-25e3234dc6a2",
   "metadata": {},
   "outputs": [
    {
     "name": "stdout",
     "output_type": "stream",
     "text": [
      "True\n"
     ]
    }
   ],
   "source": [
    "s = \"hello\"\n",
    "print(s.isalpha())  # Output: True\n"
   ]
  },
  {
   "cell_type": "code",
   "execution_count": 108,
   "id": "bae29e08-9dd2-45b5-9fed-4d9039adc638",
   "metadata": {},
   "outputs": [],
   "source": [
    "#isdigit()\n",
    "#Checks if all characters in the string are digits."
   ]
  },
  {
   "cell_type": "code",
   "execution_count": 109,
   "id": "77f6ae7c-cc2c-4f72-846d-d5109ac3ccdc",
   "metadata": {},
   "outputs": [
    {
     "name": "stdout",
     "output_type": "stream",
     "text": [
      "True\n"
     ]
    }
   ],
   "source": [
    "s = \"12345\"\n",
    "print(s.isdigit())  # Output: True\n"
   ]
  },
  {
   "cell_type": "code",
   "execution_count": 110,
   "id": "aca779a7-641a-4bbf-8439-e34d477d35c3",
   "metadata": {},
   "outputs": [],
   "source": [
    "#isalnum()\n",
    "#Checks if all characters in the string are alphanumeric."
   ]
  },
  {
   "cell_type": "code",
   "execution_count": 111,
   "id": "ff7c1964-a8a3-4b1b-a394-0cf3305cb1bc",
   "metadata": {},
   "outputs": [
    {
     "name": "stdout",
     "output_type": "stream",
     "text": [
      "True\n"
     ]
    }
   ],
   "source": [
    "s = \"hello123\"\n",
    "print(s.isalnum())  # Output: True\n"
   ]
  },
  {
   "cell_type": "code",
   "execution_count": 114,
   "id": "90542f0f-691e-47da-a265-54a31089b588",
   "metadata": {},
   "outputs": [],
   "source": [
    "#isspace()\n",
    "#Checks if all characters in the string are whitespace."
   ]
  },
  {
   "cell_type": "code",
   "execution_count": 115,
   "id": "461a049c-6b12-4f34-9d90-efa1f04e65c7",
   "metadata": {},
   "outputs": [
    {
     "name": "stdout",
     "output_type": "stream",
     "text": [
      "True\n"
     ]
    }
   ],
   "source": [
    "s = \"   \"\n",
    "print(s.isspace())  # Output: True\n"
   ]
  },
  {
   "cell_type": "code",
   "execution_count": 116,
   "id": "1fdc0ae2-025b-4a78-aba6-3a0ccbe7a704",
   "metadata": {},
   "outputs": [],
   "source": [
    "#istitle()\n",
    "#Checks if the string is titled (each word starts with an uppercase letter)."
   ]
  },
  {
   "cell_type": "code",
   "execution_count": 117,
   "id": "887f4b9e-67ef-4557-b23a-4bcf6dacba76",
   "metadata": {},
   "outputs": [
    {
     "name": "stdout",
     "output_type": "stream",
     "text": [
      "True\n"
     ]
    }
   ],
   "source": [
    "s = \"Hello World\"\n",
    "print(s.istitle())  # Output: True\n"
   ]
  },
  {
   "cell_type": "code",
   "execution_count": 118,
   "id": "204f1394-0706-4da1-adc0-005d5ddc9dcd",
   "metadata": {},
   "outputs": [],
   "source": [
    "#islower()\n",
    "#Checks if all characters in the string are lowercase."
   ]
  },
  {
   "cell_type": "code",
   "execution_count": 119,
   "id": "cb155bc8-b596-4a7e-9ee0-8a4376c037ce",
   "metadata": {},
   "outputs": [
    {
     "name": "stdout",
     "output_type": "stream",
     "text": [
      "True\n"
     ]
    }
   ],
   "source": [
    "s = \"hello\"\n",
    "print(s.islower())  # Output: True\n"
   ]
  },
  {
   "cell_type": "code",
   "execution_count": 120,
   "id": "5b015c54-aed3-4c16-a771-4cc884e9781e",
   "metadata": {},
   "outputs": [],
   "source": [
    "#isupper()\n",
    "#Checks if all characters in the string are uppercase."
   ]
  },
  {
   "cell_type": "code",
   "execution_count": 121,
   "id": "f8e01dbc-fef5-4467-b2d6-39630ab3663c",
   "metadata": {},
   "outputs": [
    {
     "name": "stdout",
     "output_type": "stream",
     "text": [
      "True\n"
     ]
    }
   ],
   "source": [
    "s = \"HELLO\"\n",
    "print(s.isupper())  # Output: True\n"
   ]
  },
  {
   "cell_type": "code",
   "execution_count": 122,
   "id": "ee421675-f87f-4c00-81fe-e482e002d296",
   "metadata": {},
   "outputs": [],
   "source": [
    "#center()\n",
    "#Centers the string within a specified width."
   ]
  },
  {
   "cell_type": "code",
   "execution_count": 123,
   "id": "5bd7c375-2c0c-43ff-9f0f-4bf721b9a320",
   "metadata": {},
   "outputs": [
    {
     "name": "stdout",
     "output_type": "stream",
     "text": [
      "***hello***\n"
     ]
    }
   ],
   "source": [
    "s = \"hello\"\n",
    "print(s.center(11, '*'))  # Output: \"***hello***\"\n"
   ]
  },
  {
   "cell_type": "code",
   "execution_count": 124,
   "id": "ea2da5ab-c6eb-4a00-a937-2c19eeb34dd3",
   "metadata": {},
   "outputs": [],
   "source": [
    "#ljust()\n",
    "#Left-justifies the string within a specified width."
   ]
  },
  {
   "cell_type": "code",
   "execution_count": 125,
   "id": "17e24f32-edbc-4e7c-b1f5-4f9159ab34e4",
   "metadata": {},
   "outputs": [
    {
     "name": "stdout",
     "output_type": "stream",
     "text": [
      "hello*****\n"
     ]
    }
   ],
   "source": [
    "s = \"hello\"\n",
    "print(s.ljust(10, '*'))  # Output: \"hello*****\"\n"
   ]
  },
  {
   "cell_type": "code",
   "execution_count": 127,
   "id": "f6d3d2c8-0ec4-42d8-880c-bf867bc74094",
   "metadata": {},
   "outputs": [],
   "source": [
    "##rjust()\n",
    "#Right-justifies the string within a specified width."
   ]
  },
  {
   "cell_type": "code",
   "execution_count": 128,
   "id": "71a49370-79e9-4b35-8c69-59c25c837569",
   "metadata": {},
   "outputs": [
    {
     "name": "stdout",
     "output_type": "stream",
     "text": [
      "*****hello\n"
     ]
    }
   ],
   "source": [
    "s = \"hello\"\n",
    "print(s.rjust(10, '*'))  # Output: \"*****hello\"\n"
   ]
  },
  {
   "cell_type": "code",
   "execution_count": 129,
   "id": "7440532e-95f1-4810-80fc-46f1c951d93e",
   "metadata": {},
   "outputs": [],
   "source": [
    "#zfill()\n",
    "#Pads the string with zeros on the left until it reaches a specified width."
   ]
  },
  {
   "cell_type": "code",
   "execution_count": 130,
   "id": "0cdebf70-5783-4410-aac8-40aae8325acf",
   "metadata": {},
   "outputs": [
    {
     "name": "stdout",
     "output_type": "stream",
     "text": [
      "00042\n"
     ]
    }
   ],
   "source": [
    "s = \"42\"\n",
    "print(s.zfill(5))  # Output: \"00042\"\n"
   ]
  },
  {
   "cell_type": "code",
   "execution_count": null,
   "id": "fcd2882c-e788-4c1c-bd6a-6005167f22c5",
   "metadata": {},
   "outputs": [],
   "source": []
  }
 ],
 "metadata": {
  "kernelspec": {
   "display_name": "Python 3 (ipykernel)",
   "language": "python",
   "name": "python3"
  },
  "language_info": {
   "codemirror_mode": {
    "name": "ipython",
    "version": 3
   },
   "file_extension": ".py",
   "mimetype": "text/x-python",
   "name": "python",
   "nbconvert_exporter": "python",
   "pygments_lexer": "ipython3",
   "version": "3.12.3"
  }
 },
 "nbformat": 4,
 "nbformat_minor": 5
}
